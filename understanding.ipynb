import tensorflow as tf
import tensorflow
from tensorflow import keras

#a loop to terminate or overide at approximate accuracy

class mycallback(tf.keras.callback.Callback):
def on_epoch_end(self,logs={}):
if(log.get('loss')<0.4):
print("\n 60% accurate ...iam done...terminating now asap!!!")
self.model.stop_training=True
callbacks = mycallback()


#dataset filename mnsit this consists of type of images that would train an ai to class if objects
mnsit=tf.keras.datasets.mnsit
(training_images,training_labels),(test_images,test_labels)=mnsit.load_data()
training_images=training_images/225.0
training_labels=training_labels/225.0
model=tf.keras.models.Sequential([tf.keras.layers.Flatten(),
                                  tf.keras.layers.Dense(1024,activation=tf.nn.relu),
                                  tf.keras.layers.Dense(10,activation=tf.nn.softmax)])
model.compile(optimizer='Adam',loss='sparse_categorical_crossentropy')
model.fit(test_images,test_labels,epochs=50,callbacks=[callbacks])
model.evaluate(test_images,test_labels)
classifications=model.predict(test_images)
print(classifications[0])
print(test_labels[0])
