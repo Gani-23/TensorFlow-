#stopping AI at 60% if you want you can change at 99 i.e, 0.99 or 90 i.e, 0.90
import tensorflow as tf 
import tensorflow
from tensorflow import keras 
class mycallback(tf.keras.callbacks.callback):
def on_end_epoch(self,epoch,log={}):
if(log.get('loss')>0.60):
print("your're soo close...AI terminating by 60%"):
self.model.stop_training=True
callbacks=mycallback()


mnsit =tf.keras.datasets.mnsit
(training_x,training_y)(test_x,test_y)=mnsit.load.data()
training_x=training_x /225.0
training_Y=training_y /225.0
model = tf.keras.models.Sequential([tf.keras.layers.flatten(),
                                    tf.keras.layers.Dense(1024,activation=tf.nn.relu),
                                    tf.keras.layers.Dense(10,activation=tf.nn.softmax)])
model.compile(optimizer='adam',loss='sparse_categorical_crossentropy',metrics=['accuracy'])
model.fit(test_x,test_y,epochs=5,callback=[callbacks])
classification=model.predict(test_x)
print(classification)
print(test_y)
